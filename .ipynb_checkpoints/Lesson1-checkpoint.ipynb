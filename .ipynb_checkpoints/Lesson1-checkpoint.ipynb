{
 "cells": [
  {
   "cell_type": "markdown",
   "metadata": {},
   "source": [
    "# Lesson1"
   ]
  },
  {
   "cell_type": "markdown",
   "metadata": {},
   "source": [
    "## Author: Peter Norvig (born December 14, 1956) is an American computer scientist. He is a director of research at Google Inc., and used to be its director of search quality"
   ]
  },
  {
   "cell_type": "markdown",
   "metadata": {},
   "source": [
    "### Problem1: write function to calculate sum of square[array]"
   ]
  },
  {
   "cell_type": "markdown",
   "metadata": {},
   "source": [
    "### My Code"
   ]
  },
  {
   "cell_type": "code",
   "execution_count": 3,
   "metadata": {},
   "outputs": [
    {
     "data": {
      "text/plain": [
       "5"
      ]
     },
     "execution_count": 3,
     "metadata": {},
     "output_type": "execute_result"
    }
   ],
   "source": [
    "def ss(nums):\n",
    "    total = 0\n",
    "    for i in range(len(nums)):\n",
    "        total += nums[i] **2\n",
    "    return total\n",
    "\n",
    "ss([1,2])"
   ]
  },
  {
   "cell_type": "markdown",
   "metadata": {},
   "source": [
    "### Teacher's code"
   ]
  },
  {
   "cell_type": "code",
   "execution_count": 4,
   "metadata": {},
   "outputs": [
    {
     "data": {
      "text/plain": [
       "5"
      ]
     },
     "execution_count": 4,
     "metadata": {},
     "output_type": "execute_result"
    }
   ],
   "source": [
    "def ss(nums):\n",
    "    return sum(x**2 for x in nums)\n",
    "\n",
    "ss([1,2])"
   ]
  },
  {
   "cell_type": "markdown",
   "metadata": {},
   "source": [
    "### outline for problem 1: write code for poker game\n",
    "### poker rule: https://en.wikipedia.org/wiki/List_of_poker_hands"
   ]
  },
  {
   "cell_type": "markdown",
   "metadata": {},
   "source": [
    "### my code"
   ]
  },
  {
   "cell_type": "code",
   "execution_count": 9,
   "metadata": {},
   "outputs": [
    {
     "data": {
      "text/plain": [
       "10"
      ]
     },
     "execution_count": 9,
     "metadata": {},
     "output_type": "execute_result"
    }
   ],
   "source": [
    "def hand_rank(hand):\n",
    "    return hand * 2\n",
    "\n",
    "def poker(hands):\n",
    "    \"Return the best hand\"\n",
    "    return max(hand_rank(hand) for hand in hands ) # wrong because we want to return hand\n",
    "poker([1,2,5])"
   ]
  },
  {
   "cell_type": "markdown",
   "metadata": {},
   "source": [
    "### teacher's code: sử dụng key trong function max"
   ]
  },
  {
   "cell_type": "code",
   "execution_count": 16,
   "metadata": {},
   "outputs": [
    {
     "data": {
      "text/plain": [
       "3"
      ]
     },
     "execution_count": 16,
     "metadata": {},
     "output_type": "execute_result"
    }
   ],
   "source": [
    "def poker(hands):\n",
    "    \"Return the best hand\"\n",
    "    return max(hands, key = hand_rank )\n",
    "\n",
    "def card_rank(hand):\n",
    "    hand.sort()\n",
    "    hand.reverse()\n",
    "    \n",
    "    return hand\n",
    "\n",
    "def straight(hand):\n",
    "    hand.sort()\n",
    "    \n",
    "        \n",
    "        \n",
    "    \n",
    "\n",
    "def hand_rank(hand):\n",
    "    \"Return a value indicating the ranking of a hand\"\n",
    "    return hand * 2\n",
    "\n",
    "def test():\n",
    "    \"Test cases for the functions in poker program\"\n",
    "    sf = \"6C 7C 8C 9C TC\".split() # traight flush\n",
    "    fk = \"9D 9H 9S 9C 7D\".split() # four of kind\n",
    "    fh = \"TD TC TH 7C 7D\".split() # full house\n",
    "    assert poker([sf, fk, fh]) == sf\n",
    "    assert poker([fk, fh]) == fk\n",
    "    assert poker([fh, fh]) == fh\n",
    "    assert poker([sf]) == sf\n",
    "    assert poker([sf] + 99*[fh]) == sf # the way to concatenate\n",
    "    # test for hand_rank\n",
    "    assert hand_rank(sf) == (8,10)\n",
    "    assert hand_rank(fk) == (7, 9,7)\n",
    "    assert hand_rank(fh) == (6,10,7)\n",
    "    return \"test pass\"\n",
    "\n",
    "#print(test())\n",
    "poker([1,2,3])"
   ]
  },
  {
   "cell_type": "markdown",
   "metadata": {},
   "source": [
    "### Có thể so sánh giữa 2 tuple hoặc 2 string đơn giản như sau"
   ]
  },
  {
   "cell_type": "code",
   "execution_count": 5,
   "metadata": {},
   "outputs": [
    {
     "name": "stdout",
     "output_type": "stream",
     "text": [
      "(7, 3, 5)\n",
      "False\n"
     ]
    }
   ],
   "source": [
    "print(max([(7,3,5),(6,9,9)]))\n",
    "print(('hello' > 'help'))"
   ]
  },
  {
   "cell_type": "markdown",
   "metadata": {},
   "source": [
    "### Memo: Python có thể return các value có type khác nhau"
   ]
  },
  {
   "cell_type": "markdown",
   "metadata": {},
   "source": [
    "### my code card rank function card_ranks([\"6C 7C 8C 9C TC\".split) == [10,9,8,7,6]"
   ]
  },
  {
   "cell_type": "code",
   "execution_count": 19,
   "metadata": {},
   "outputs": [
    {
     "name": "stdout",
     "output_type": "stream",
     "text": [
      "['10', '9', '8', '7', '6']\n"
     ]
    }
   ],
   "source": [
    "def card_ranks(cards):\n",
    "    ranks = [r for r,s in cards]\n",
    "    ranks.sort(reverse =True)\n",
    "    convert_obj = {\n",
    "        'T':'10',\n",
    "        'J':'11',\n",
    "        'Q':'12',\n",
    "        'K':'13',\n",
    "        'A':'14'\n",
    "    }\n",
    "    for i in range(len(ranks)):\n",
    "        if ranks[i] in convert_obj.keys():\n",
    "            ranks[i] = convert_obj[ranks[i]]\n",
    "    \n",
    "    return ranks\n",
    "\n",
    "sf = \"7C 6C 8C 9C TC\".split()\n",
    "print(card_ranks(sf))"
   ]
  },
  {
   "cell_type": "markdown",
   "metadata": {},
   "source": [
    "### Teacher's code for card_ranks function"
   ]
  },
  {
   "cell_type": "code",
   "execution_count": 22,
   "metadata": {},
   "outputs": [
    {
     "name": "stdout",
     "output_type": "stream",
     "text": [
      "[10, 9, 8, 7, 6]\n"
     ]
    }
   ],
   "source": [
    "def card_ranks(hand):\n",
    "    ranks = ['--23456789TJQKA'.index(r) for r,s in hand]\n",
    "    ranks.sort(reverse =True)\n",
    "    \n",
    "    return ranks\n",
    "\n",
    "sf = \"7C 6C 8C 9C TC\".split()\n",
    "print(card_ranks(sf))"
   ]
  },
  {
   "cell_type": "markdown",
   "metadata": {},
   "source": [
    "### study point: để transform array có thể dùng [transform_value for value in array]"
   ]
  },
  {
   "cell_type": "markdown",
   "metadata": {},
   "source": [
    "### write straight function and flush code: my code"
   ]
  },
  {
   "cell_type": "code",
   "execution_count": 32,
   "metadata": {
    "scrolled": true
   },
   "outputs": [
    {
     "name": "stdout",
     "output_type": "stream",
     "text": [
      "False\n",
      "True\n",
      "False\n"
     ]
    }
   ],
   "source": [
    "def straight(ranks):\n",
    "    \"Return true if the ordered ranks form a 5-card straight\"\n",
    "    if max(ranks) - min(ranks) == 4:\n",
    "        return True\n",
    "    else:\n",
    "        return False\n",
    "    \n",
    "def flush(hand):\n",
    "    \"Return True if all the cards have the same suit\"\n",
    "    suits = [s for r, s in hand]\n",
    "    ref = suits[0]\n",
    "    for i in range(len(suits)):\n",
    "        if suits[i] != ref:\n",
    "            return False\n",
    "    \n",
    "    return True\n",
    "\n",
    "print(flush(\"7C 6C 8C 9C TK\".split()))\n",
    "\n",
    "print(straight([10,9,8,7,6]))\n",
    "print(straight([10,9,8,7,5]))"
   ]
  },
  {
   "cell_type": "markdown",
   "metadata": {},
   "source": [
    "### straight, flush function: teacher's code"
   ]
  },
  {
   "cell_type": "code",
   "execution_count": 1,
   "metadata": {},
   "outputs": [
    {
     "name": "stdout",
     "output_type": "stream",
     "text": [
      "False\n",
      "True\n",
      "False\n"
     ]
    }
   ],
   "source": [
    "def straight(ranks):\n",
    "    \"Return true if the ordered ranks form a 5-card straight\"\n",
    "    return (max(ranks) - min(ranks) == 4) and len(set(ranks)) == 5\n",
    "    \n",
    "def flush(hand):\n",
    "    \"Return True if all the cards have the same suit\"\n",
    "    suits = [s for r, s in hand]\n",
    "    return len(set(suits)) == 1\n",
    "\n",
    "print(flush(\"7C 6C 8C 9C TK\".split()))\n",
    "\n",
    "print(straight([10,9,8,7,6]))\n",
    "print(straight([10,9,8,7,5]))"
   ]
  },
  {
   "cell_type": "markdown",
   "metadata": {},
   "source": [
    "### kind, two pair function: my code"
   ]
  },
  {
   "cell_type": "code",
   "execution_count": 24,
   "metadata": {},
   "outputs": [
    {
     "data": {
      "text/plain": [
       "'test pass'"
      ]
     },
     "execution_count": 24,
     "metadata": {},
     "output_type": "execute_result"
    }
   ],
   "source": [
    "def card_ranks(hand):\n",
    "    ranks = ['--23456789TJQKA'.index(r) for r,s in hand]\n",
    "    ranks.sort(reverse =True)\n",
    "    \n",
    "    return ranks\n",
    "\n",
    "def kind(number, ranks):\n",
    "    \"Return the first rank that this hand has exactly n of\"\n",
    "    for item in ranks:\n",
    "        if number == ranks.count(item):\n",
    "            return item\n",
    "    \n",
    "    return None\n",
    "\n",
    "def two_pair(ranks):\n",
    "    \"It there are two pairs, return the two ranks as a tuple(highest, lowest). Otherwise return None\"\n",
    "    highest = kind(2, ranks)\n",
    "    \n",
    "    if highest != None:\n",
    "        tmp = list(filter(lambda x: x != highest, ranks))\n",
    "        lowest = kind(2, tmp)\n",
    "        \n",
    "        if lowest != None:\n",
    "            return(highest, lowest)\n",
    "        \n",
    "    return None\n",
    "    \n",
    "def test():\n",
    "    \"Test cases for the functions in poker program\"\n",
    "    sf = \"6C 7C 8C 9C TC\".split() # traight flush\n",
    "    fk = \"9D 9H 9S 9C 7D\".split() # four of kind\n",
    "    fh = \"TD TC TH 7C 7D\".split() # full house\n",
    "    tp = \"6C 6D 7C 7D TC\".split()\n",
    "    # test for hand_rank\n",
    "    fkranks = card_ranks(fk)\n",
    "    tpranks = card_ranks(tp)\n",
    "    assert kind(4, fkranks) == 9\n",
    "    assert kind(3, fkranks) == None\n",
    "    assert kind(2, fkranks) == None\n",
    "    assert kind(1, fkranks) == 7\n",
    "    assert two_pair(fkranks) == None\n",
    "    assert two_pair(tpranks) == (7,6)\n",
    "    return \"test pass\"\n",
    "\n",
    "test()"
   ]
  },
  {
   "cell_type": "markdown",
   "metadata": {},
   "source": [
    "### kind, two pair function: teacher's code"
   ]
  },
  {
   "cell_type": "code",
   "execution_count": 7,
   "metadata": {},
   "outputs": [
    {
     "data": {
      "text/plain": [
       "'test pass'"
      ]
     },
     "execution_count": 7,
     "metadata": {},
     "output_type": "execute_result"
    }
   ],
   "source": [
    "def straight(ranks):\n",
    "    \"Return true if the ordered ranks form a 5-card straight\"\n",
    "    return (max(ranks) - min(ranks) == 4) and len(set(ranks)) == 5\n",
    "    \n",
    "def flush(hand):\n",
    "    \"Return True if all the cards have the same suit\"\n",
    "    suits = [s for r, s in hand]\n",
    "    return len(set(suits)) == 1\n",
    "\n",
    "def card_ranks(hand):\n",
    "    ranks = ['--23456789TJQKA'.index(r) for r,s in hand]\n",
    "    ranks.sort(reverse =True)\n",
    "    \n",
    "    return [5, 4, 3, 2, 1] if (ranks == [14, 5, 4, 3, 2]) else ranks\n",
    "\n",
    "def kind(number, ranks):\n",
    "    \"Return the first rank that this hand has exactly n of\"\n",
    "    for item in ranks:\n",
    "        if number == ranks.count(item):\n",
    "            return item\n",
    "    \n",
    "    return None\n",
    "\n",
    "def two_pair(ranks):\n",
    "    \"It there are two pairs, return the two ranks as a tuple(highest, lowest). Otherwise return None\"\n",
    "    pair = kind(2, ranks)\n",
    "    low_pair = kind(2, list(reversed(ranks)))\n",
    "    \n",
    "    if pair and low_pair != pair:\n",
    "        return(pair, low_pair)\n",
    "    else:\n",
    "        return None\n",
    "\n",
    "def hand_rank(hand):\n",
    "    \"Return a value indicating the ranking of a hand\"\n",
    "    ranks = card_ranks(hand)\n",
    "    if straight(ranks) and flush(hand):\n",
    "        return (8, max(ranks)) # 2 3 4 5 6\n",
    "    elif kind(4, ranks):\n",
    "        return (7, kind(4, ranks), kind(1, ranks)) # 9 9 9 9 3  (7, 9, 3)\n",
    "    elif kind(3, ranks) and kind(2, ranks):\n",
    "        return (6, kind(3, ranks), kind(2, ranks))\n",
    "    elif flush(hand):\n",
    "        return (5, ranks)\n",
    "    elif straight(ranks):\n",
    "        return (4, max(ranks))\n",
    "    elif kind(3, ranks):\n",
    "        return (3, kind(3, ranks), ranks)\n",
    "    elif two_pair(ranks):\n",
    "        return (2, two_pair(ranks), ranks)\n",
    "    elif kind(2, ranks):\n",
    "        return (1, kind(2, ranks), ranks)\n",
    "    else:\n",
    "        return (0, ranks)\n",
    "    \n",
    "def poker(hands):\n",
    "    \"Return the best hand\"\n",
    "    return allmax(hands, key=hand_rank )\n",
    "\n",
    "def allmax(iterable, key = None):\n",
    "    \"Return a list of all items equal to the max of the iterable\"\n",
    "    result, maxval = [], None\n",
    "    key = key or (lambda x:x)\n",
    "    \n",
    "    for x in iterable:\n",
    "        xval = key(x)\n",
    "        if not result or xval > maxval:\n",
    "            result, maxval = [x], xval\n",
    "        elif xval == maxval:\n",
    "            result.append(x)\n",
    "    return result\n",
    "    \n",
    "def test():\n",
    "    \"Test cases for the functions in poker program\"\n",
    "    sf = \"6C 7C 8C 9C TC\".split() # traight flush\n",
    "    fk = \"9D 9H 9S 9C 7D\".split() # four of kind\n",
    "    fh = \"TD TC TH 7C 7D\".split() # full house\n",
    "    tp = \"6C 6D 7C 7D TC\".split()\n",
    "    al = \"AC 2D 4H 3D 5S\".split() #  Ace-low Straight\n",
    "    s1 = \"AS 2S 3S 4S 5S\".split() # A-5 straight\n",
    "    s2 = \"2C 3C 4C 5C 6C\".split() # 2-6 straight\n",
    "    ah = \"AS 2S 3S 4S 6C\".split() # A high\n",
    "    sh = \"2S 3S 4S 6S 7D\".split() # 7 high\n",
    "    #assert poker([s1, s2, ah, sh]) == s2\n",
    "    #print(card_ranks(al))\n",
    "    assert straight(card_ranks(al)) == True\n",
    "    # test for hand_rank\n",
    "    fkranks = card_ranks(fk)\n",
    "    tpranks = card_ranks(tp)\n",
    "    assert kind(4, fkranks) == 9\n",
    "    assert kind(3, fkranks) == None\n",
    "    assert kind(2, fkranks) == None\n",
    "    assert kind(1, fkranks) == 7\n",
    "    assert two_pair(fkranks) == None\n",
    "    assert two_pair(tpranks) == (7,6)\n",
    "    return \"test pass\"\n",
    "\n",
    "test()"
   ]
  },
  {
   "cell_type": "markdown",
   "metadata": {},
   "source": [
    "### my code for deal function"
   ]
  },
  {
   "cell_type": "code",
   "execution_count": 16,
   "metadata": {},
   "outputs": [
    {
     "name": "stdout",
     "output_type": "stream",
     "text": [
      "[['TD', 'TS', '8S', '6C', 'KS'], ['QH', '4H', 'QS', '7D', '3S'], ['5D', 'KD', '2D', 'JD', 'AS'], ['8C', 'AD', 'QD', '9H', '5S'], ['6H', 'TH', '3C', '3D', '2C']]\n"
     ]
    },
    {
     "data": {
      "text/plain": [
       "[['TD', 'TS', '8S', '6C', 'KS'],\n",
       " ['QH', '4H', 'QS', '7D', '3S'],\n",
       " ['5D', 'KD', '2D', 'JD', 'AS'],\n",
       " ['8C', 'AD', 'QD', '9H', '5S'],\n",
       " ['6H', 'TH', '3C', '3D', '2C']]"
      ]
     },
     "execution_count": 16,
     "metadata": {},
     "output_type": "execute_result"
    }
   ],
   "source": [
    "\n",
    "import random # this will be a useful library for shuffling\n",
    "\n",
    "# This builds a deck of 52 cards. If you are unfamiliar\n",
    "# with this notation, check out Andy's supplemental video\n",
    "# on list comprehensions (you can find the link in the \n",
    "# Instructor Comments box below).\n",
    "\n",
    "mydeck = [r+s for r in '23456789TJQKA' for s in 'SHDC'] \n",
    "\n",
    "def deal(numhands, n=5, deck=mydeck):\n",
    "    ret = []\n",
    "    # 初期化\n",
    "    for i in range(numhands):\n",
    "        hand = []\n",
    "        for j in range(n):\n",
    "            rand_no = int(random.random() * len(deck))\n",
    "            hand.append(deck[rand_no])\n",
    "            deck.pop(rand_no)\n",
    "        ret.append(hand)\n",
    "    \n",
    "    print(ret)\n",
    "    return ret\n",
    "deal(5,5, mydeck)\n",
    "    "
   ]
  },
  {
   "cell_type": "markdown",
   "metadata": {},
   "source": [
    "### teacher's code for deal function"
   ]
  },
  {
   "cell_type": "code",
   "execution_count": 19,
   "metadata": {},
   "outputs": [
    {
     "data": {
      "text/plain": [
       "[['JH', 'AH', 'KC', '5C', '3H'],\n",
       " ['2D', 'AC', '7H', '2H', '3S'],\n",
       " ['9H', 'TH', '8H', 'QS', '3D'],\n",
       " ['4C', '3C', 'TS', '6D', 'JD'],\n",
       " ['4D', '9D', 'JC', 'QD', '7C']]"
      ]
     },
     "execution_count": 19,
     "metadata": {},
     "output_type": "execute_result"
    }
   ],
   "source": [
    "import random # this will be a useful library for shuffling\n",
    "\n",
    "# This builds a deck of 52 cards. If you are unfamiliar\n",
    "# with this notation, check out Andy's supplemental video\n",
    "# on list comprehensions (you can find the link in the \n",
    "# Instructor Comments box below).\n",
    "\n",
    "mydeck = [r+s for r in '23456789TJQKA' for s in 'SHDC'] \n",
    "def deal(numhands, n=5, deck=mydeck):  \n",
    "    random.shuffle(deck)\n",
    "    return [deck[n*i: n*(i+1)] for i in range(numhands)]\n",
    "            \n",
    "deal(5,5, mydeck)"
   ]
  },
  {
   "cell_type": "code",
   "execution_count": 25,
   "metadata": {},
   "outputs": [
    {
     "name": "stdout",
     "output_type": "stream",
     "text": [
      "[23]\n",
      "[0, 1, 2, 3, 4, 5, 6, 7, 8, 9, 10, 11, 12, 13, 14, 15, 16, 17, 18, 19, 20, 21, 22, 23]\n",
      "[23, 0, 1, 2, 3, 4, 5, 6, 7, 8, 9, 10, 11, 12, 13, 14, 15, 16, 17, 18, 19, 20, 21, 22]\n"
     ]
    }
   ],
   "source": [
    "now_hour = 1\n",
    "b = []\n",
    "a = [i for i in range(24)]\n",
    "top = a[-now_hour:]\n",
    "print(top)\n",
    "tail = a[:24-now_hour]\n",
    "b.extend(top) \n",
    "b.extend(tail)\n",
    "print(a)\n",
    "print(b)\n",
    "    "
   ]
  },
  {
   "cell_type": "code",
   "execution_count": 2,
   "metadata": {},
   "outputs": [
    {
     "ename": "SyntaxError",
     "evalue": "unexpected EOF while parsing (<ipython-input-2-5c32d282f8cb>, line 108)",
     "output_type": "error",
     "traceback": [
      "\u001b[0;36m  File \u001b[0;32m\"<ipython-input-2-5c32d282f8cb>\"\u001b[0;36m, line \u001b[0;32m108\u001b[0m\n\u001b[0;31m    #     print(counts)\u001b[0m\n\u001b[0m                       ^\u001b[0m\n\u001b[0;31mSyntaxError\u001b[0m\u001b[0;31m:\u001b[0m unexpected EOF while parsing\n"
     ]
    }
   ],
   "source": [
    "import random # this will be a useful library for shuffling\n",
    "\n",
    "def straight(ranks):\n",
    "    \"Return true if the ordered ranks form a 5-card straight\"\n",
    "    return (max(ranks) - min(ranks) == 4) and len(set(ranks)) == 5\n",
    "    \n",
    "def flush(hand):\n",
    "    \"Return True if all the cards have the same suit\"\n",
    "    suits = [s for r, s in hand]\n",
    "    return len(set(suits)) == 1\n",
    "\n",
    "def card_ranks(hand):\n",
    "    ranks = ['--23456789TJQKA'.index(r) for r,s in hand]\n",
    "    ranks.sort(reverse =True)\n",
    "    \n",
    "    return [5, 4, 3, 2, 1] if (ranks == [14, 5, 4, 3, 2]) else ranks\n",
    "\n",
    "def kind(number, ranks):\n",
    "    \"Return the first rank that this hand has exactly n of\"\n",
    "    for item in ranks:\n",
    "        if number == ranks.count(item):\n",
    "            return item\n",
    "    \n",
    "    return None\n",
    "\n",
    "def two_pair(ranks):\n",
    "    \"It there are two pairs, return the two ranks as a tuple(highest, lowest). Otherwise return None\"\n",
    "    pair = kind(2, ranks)\n",
    "    low_pair = kind(2, list(reversed(ranks)))\n",
    "    \n",
    "    if pair and low_pair != pair:\n",
    "        return(pair, low_pair)\n",
    "    else:\n",
    "        return None\n",
    "\n",
    "def hand_rank(hand):\n",
    "    \"Return a value indicating the ranking of a hand\"\n",
    "    ranks = card_ranks(hand)\n",
    "    if straight(ranks) and flush(hand):\n",
    "        return (8, max(ranks)) # 2 3 4 5 6\n",
    "    elif kind(4, ranks):\n",
    "        return (7, kind(4, ranks), kind(1, ranks)) # 9 9 9 9 3  (7, 9, 3)\n",
    "    elif kind(3, ranks) and kind(2, ranks):\n",
    "        return (6, kind(3, ranks), kind(2, ranks))\n",
    "    elif flush(hand):\n",
    "        return (5, ranks)\n",
    "    elif straight(ranks):\n",
    "        return (4, max(ranks))\n",
    "    elif kind(3, ranks):\n",
    "        return (3, kind(3, ranks), ranks)\n",
    "    elif two_pair(ranks):\n",
    "        return (2, two_pair(ranks), ranks)\n",
    "    elif kind(2, ranks):\n",
    "        return (1, kind(2, ranks), ranks)\n",
    "    else:\n",
    "        return (0, ranks)\n",
    "    \n",
    "def poker(hands):\n",
    "    \"Return the best hand\"\n",
    "    return allmax(hands, key=hand_rank )\n",
    "\n",
    "def allmax(iterable, key = None):\n",
    "    \"Return a list of all items equal to the max of the iterable\"\n",
    "    result, maxval = [], None\n",
    "    key = key or (lambda x:x)\n",
    "    \n",
    "    for x in iterable:\n",
    "        xval = key(x)\n",
    "        if not result or xval > maxval:\n",
    "            result, maxval = [x], xval\n",
    "        elif xval == maxval:\n",
    "            result.append(x)\n",
    "    return result\n",
    "    \n",
    "def test():\n",
    "    \"Test cases for the functions in poker program\"\n",
    "    sf = \"6C 7C 8C 9C TC\".split() # traight flush\n",
    "    fk = \"9D 9H 9S 9C 7D\".split() # four of kind\n",
    "    fh = \"TD TC TH 7C 7D\".split() # full house\n",
    "    tp = \"6C 6D 7C 7D TC\".split()\n",
    "    al = \"AC 2D 4H 3D 5S\".split() #  Ace-low Straight\n",
    "    s1 = \"AS 2S 3S 4S 5S\".split() # A-5 straight\n",
    "    s2 = \"2C 3C 4C 5C 6C\".split() # 2-6 straight\n",
    "    ah = \"AS 2S 3S 4S 6C\".split() # A high\n",
    "    sh = \"2S 3S 4S 6S 7D\".split() # 7 high\n",
    "    #assert poker([s1, s2, ah, sh]) == s2\n",
    "    #print(card_ranks(al))\n",
    "    assert straight(card_ranks(al)) == True\n",
    "    # test for hand_rank\n",
    "    fkranks = card_ranks(fk)\n",
    "    tpranks = card_ranks(tp)\n",
    "    assert kind(4, fkranks) == 9\n",
    "    assert kind(3, fkranks) == None\n",
    "    assert kind(2, fkranks) == None\n",
    "    assert kind(1, fkranks) == 7\n",
    "    assert two_pair(fkranks) == None\n",
    "    assert two_pair(tpranks) == (7,6)\n",
    "    return \"test pass\"\n",
    "\n",
    "mydeck = [r+s for r in '23456789TJQKA' for s in 'SHDC'] \n",
    "\n",
    "def hand_percentages(n=700*1000):\n",
    "    counts = [0] * 9\n",
    "    print(hand_rank(random.shuffle(mydeck)[0:5])\n",
    "    \n",
    "#     for i in range(n):\n",
    "#         counts[hand_rank(random.shuffle(mydeck)[0:5])[0]] += 1\n",
    "#     print(counts)\n",
    "\n"
   ]
  },
  {
   "cell_type": "markdown",
   "metadata": {},
   "source": [
    "### My memo: tạo list với các phần từ giống nhau dùng phép nhân"
   ]
  }
 ],
 "metadata": {
  "kernelspec": {
   "display_name": "Python 3",
   "language": "python",
   "name": "python3"
  },
  "language_info": {
   "codemirror_mode": {
    "name": "ipython",
    "version": 3
   },
   "file_extension": ".py",
   "mimetype": "text/x-python",
   "name": "python",
   "nbconvert_exporter": "python",
   "pygments_lexer": "ipython3",
   "version": "3.6.4"
  }
 },
 "nbformat": 4,
 "nbformat_minor": 2
}
