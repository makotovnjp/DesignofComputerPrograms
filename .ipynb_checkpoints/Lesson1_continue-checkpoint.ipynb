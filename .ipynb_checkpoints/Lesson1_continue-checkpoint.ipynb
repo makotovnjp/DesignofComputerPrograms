{
 "cells": [
  {
   "cell_type": "markdown",
   "metadata": {},
   "source": [
    "### Comprehension about list: upper list_name (my code == teacher's code)"
   ]
  },
  {
   "cell_type": "code",
   "execution_count": 6,
   "metadata": {},
   "outputs": [
    {
     "name": "stdout",
     "output_type": "stream",
     "text": [
      "['Thanh', 'Ngoan', 'Minh']\n"
     ]
    }
   ],
   "source": [
    "list_name = ['thanh','ngoan','minh']\n",
    "upper_list_name = [name[0].upper() + name[1:] for name in list_name]\n",
    "print(upper_list_name)"
   ]
  },
  {
   "cell_type": "code",
   "execution_count": 8,
   "metadata": {},
   "outputs": [
    {
     "name": "stdout",
     "output_type": "stream",
     "text": [
      "['thanhlives in vietnam', 'ngoanlives in hanoi']\n"
     ]
    }
   ],
   "source": [
    "data = [('thanh', 'vietnam', 'abc'),('ngoan', 'hanoi', 'efg')]\n",
    "t_data = [ name + 'lives in ' + country for name, country, course in data]\n",
    "print(t_data)"
   ]
  },
  {
   "cell_type": "markdown",
   "metadata": {},
   "source": [
    "### memo: khi chia tách các phần tử trong tuple phải có đầy đủ các element"
   ]
  },
  {
   "cell_type": "markdown",
   "metadata": {},
   "source": [
    "### problem: write best hand (dùng itertools.combinations)"
   ]
  },
  {
   "cell_type": "code",
   "execution_count": 17,
   "metadata": {},
   "outputs": [
    {
     "name": "stdout",
     "output_type": "stream",
     "text": [
      "['8C', '8S', 'TC', 'TD', 'TH']\n",
      "test_best_hand passes\n"
     ]
    }
   ],
   "source": [
    "import itertools\n",
    "\n",
    "# CS 212, hw1-1: 7-card stud\n",
    "#\n",
    "# -----------------\n",
    "# User Instructions\n",
    "#\n",
    "# Write a function best_hand(hand) that takes a seven\n",
    "# card hand as input and returns the best possible 5\n",
    "# card hand. The itertools library has some functions\n",
    "# that may help you solve this problem.\n",
    "#\n",
    "# -----------------\n",
    "# Grading Notes\n",
    "# \n",
    "# Muliple correct answers will be accepted in cases \n",
    "# where the best hand is ambiguous (for example, if \n",
    "# you have 4 kings and 3 queens, there are three best\n",
    "# hands: 4 kings along with any of the three queens).\n",
    "\n",
    "import itertools\n",
    "\n",
    "def best_hand(hand):\n",
    "    \"From a 7-card hand, return the best 5 card hand.\"\n",
    "    \n",
    "    # Your code here\n",
    "    return max(itertools.combinations(hand,5), key = hand_rank)\n",
    "      \n",
    "    \n",
    "# ------------------\n",
    "# Provided Functions\n",
    "# \n",
    "# You may want to use some of the functions which\n",
    "# you have already defined in the unit to write \n",
    "# your best_hand function.\n",
    "\n",
    "def hand_rank(hand):\n",
    "    \"Return a value indicating the ranking of a hand.\"\n",
    "    ranks = card_ranks(hand) \n",
    "    if straight(ranks) and flush(hand):\n",
    "        return (8, max(ranks))\n",
    "    elif kind(4, ranks):\n",
    "        return (7, kind(4, ranks), kind(1, ranks))\n",
    "    elif kind(3, ranks) and kind(2, ranks):\n",
    "        return (6, kind(3, ranks), kind(2, ranks))\n",
    "    elif flush(hand):\n",
    "        return (5, ranks)\n",
    "    elif straight(ranks):\n",
    "        return (4, max(ranks))\n",
    "    elif kind(3, ranks):\n",
    "        return (3, kind(3, ranks), ranks)\n",
    "    elif two_pair(ranks):\n",
    "        return (2, two_pair(ranks), ranks)\n",
    "    elif kind(2, ranks):\n",
    "        return (1, kind(2, ranks), ranks)\n",
    "    else:\n",
    "        return (0, ranks)\n",
    "    \n",
    "def card_ranks(hand):\n",
    "    \"Return a list of the ranks, sorted with higher first.\"\n",
    "    ranks = ['--23456789TJQKA'.index(r) for r, s in hand]\n",
    "    ranks.sort(reverse = True)\n",
    "    return [5, 4, 3, 2, 1] if (ranks == [14, 5, 4, 3, 2]) else ranks\n",
    "\n",
    "def flush(hand):\n",
    "    \"Return True if all the cards have the same suit.\"\n",
    "    suits = [s for r,s in hand]\n",
    "    return len(set(suits)) == 1\n",
    "\n",
    "def straight(ranks):\n",
    "    \"\"\"Return True if the ordered \n",
    "    ranks form a 5-card straight.\"\"\"\n",
    "    return (max(ranks)-min(ranks) == 4) and len(set(ranks)) == 5\n",
    "\n",
    "def kind(n, ranks):\n",
    "    \"\"\"Return the first rank that this hand has \n",
    "    exactly n-of-a-kind of. Return None if there \n",
    "    is no n-of-a-kind in the hand.\"\"\"\n",
    "    for r in ranks:\n",
    "        if ranks.count(r) == n: return r\n",
    "    return None\n",
    "\n",
    "def two_pair(ranks):\n",
    "    \"\"\"If there are two pair here, return the two \n",
    "    ranks of the two pairs, else None.\"\"\"\n",
    "    pair = kind(2, ranks)\n",
    "    lowpair = kind(2, list(reversed(ranks)))\n",
    "    if pair and lowpair != pair:\n",
    "        return (pair, lowpair)\n",
    "    else:\n",
    "        return None \n",
    "    \n",
    "def test_best_hand():\n",
    "    assert (sorted(best_hand(\"6C 7C 8C 9C TC 5C JS\".split()))\n",
    "            == ['6C', '7C', '8C', '9C', 'TC'])\n",
    "    assert (sorted(best_hand(\"TD TC TH 7C 7D 8C 8S\".split()))\n",
    "            == ['8C', '8S', 'TC', 'TD', 'TH'])\n",
    "    assert (sorted(best_hand(\"JD TC TH 7C 7D 7S 7H\".split()))\n",
    "            == ['7C', '7D', '7H', '7S', 'JD'])\n",
    "    return 'test_best_hand passes'\n",
    "\n",
    "print(sorted(best_hand(\"TD TC TH 7C 7D 8C 8S\".split())))\n",
    "print(test_best_hand())"
   ]
  },
  {
   "cell_type": "markdown",
   "metadata": {},
   "source": [
    "### best_wild_hand"
   ]
  },
  {
   "cell_type": "code",
   "execution_count": 31,
   "metadata": {},
   "outputs": [
    {
     "name": "stdout",
     "output_type": "stream",
     "text": [
      "['5C', '?B']\n",
      "['5C'] ['2S', '2C', '3S', '3C', '4S', '4C', '5S', '5C', '6S', '6C', '7S', '7C', '8S', '8C', '9S', '9C', 'TS', 'TC', 'JS', 'JC', 'QS', 'QC', 'KS', 'KC', 'AS', 'AC']\n"
     ]
    }
   ],
   "source": [
    "# CS 212, hw1-2: Jokers Wild\n",
    "#\n",
    "# -----------------\n",
    "# User Instructions\n",
    "#\n",
    "# Write a function best_wild_hand(hand) that takes as\n",
    "# input a 7-card hand and returns the best 5 card hand.\n",
    "# In this problem, it is possible for a hand to include\n",
    "# jokers. Jokers will be treated as 'wild cards' which\n",
    "# can take any rank or suit of the same color. The \n",
    "# black joker, '?B', can be used as any spade or club\n",
    "# and the red joker, '?R', can be used as any heart \n",
    "# or diamond.\n",
    "#\n",
    "# The itertools library may be helpful. Feel free to \n",
    "# define multiple functions if it helps you solve the\n",
    "# problem. \n",
    "#\n",
    "# -----------------\n",
    "# Grading Notes\n",
    "# \n",
    "# Muliple correct answers will be accepted in cases \n",
    "# where the best hand is ambiguous (for example, if \n",
    "# you have 4 kings and 3 queens, there are three best\n",
    "# hands: 4 kings along with any of the three queens).\n",
    "\n",
    "import itertools\n",
    "\n",
    "allranks = '23456789TJQKA'\n",
    "redcards = [r + s for r in allranks for s in 'DH']\n",
    "blackcards = [r + s for r in allranks for s in 'SC']\n",
    "\n",
    "def best_wild_hand(hand):\n",
    "    \"Try all values for jokers in all 5-card selections.\"\n",
    "    \n",
    "    # Your code here\n",
    "    hands = set(best_hand(h) for h in itertools.product(*map(replacements, hand)))\n",
    "    return max(hands, key = hand_rank)\n",
    "            \n",
    "def replacements(card):\n",
    "    \"Return a list of the possible replacement\"\n",
    "    if card == '?B': return blackcards\n",
    "    elif card == '?R': return redcards\n",
    "    else: return [card]\n",
    "\n",
    "\n",
    "def best_hand(hand):\n",
    "    \"From a 7-card hand, return the best 5 card hand.\"\n",
    "    \n",
    "    # Your code here\n",
    "    return max(itertools.combinations(hand,5), key = hand_rank)\n",
    "\n",
    "def test_best_wild_hand():\n",
    "    assert (sorted(best_wild_hand(\"6C 7C 8C 9C TC 5C ?B\".split()))\n",
    "            == ['7C', '8C', '9C', 'JC', 'TC'])\n",
    "    assert (sorted(best_wild_hand(\"TD TC 5H 5C 7C ?R ?B\".split()))\n",
    "            == ['7C', 'TC', 'TD', 'TH', 'TS'])\n",
    "    assert (sorted(best_wild_hand(\"JD TC TH 7C 7D 7S 7H\".split()))\n",
    "            == ['7C', '7D', '7H', '7S', 'JD'])\n",
    "    return 'test_best_wild_hand passes'\n",
    "\n",
    "# ------------------\n",
    "# Provided Functions\n",
    "# \n",
    "# You may want to use some of the functions which\n",
    "# you have already defined in the unit to write \n",
    "# your best_hand function.\n",
    "\n",
    "def hand_rank(hand):\n",
    "    \"Return a value indicating the ranking of a hand.\"\n",
    "    ranks = card_ranks(hand) \n",
    "    if straight(ranks) and flush(hand):\n",
    "        return (8, max(ranks))\n",
    "    elif kind(4, ranks):\n",
    "        return (7, kind(4, ranks), kind(1, ranks))\n",
    "    elif kind(3, ranks) and kind(2, ranks):\n",
    "        return (6, kind(3, ranks), kind(2, ranks))\n",
    "    elif flush(hand):\n",
    "        return (5, ranks)\n",
    "    elif straight(ranks):\n",
    "        return (4, max(ranks))\n",
    "    elif kind(3, ranks):\n",
    "        return (3, kind(3, ranks), ranks)\n",
    "    elif two_pair(ranks):\n",
    "        return (2, two_pair(ranks), ranks)\n",
    "    elif kind(2, ranks):\n",
    "        return (1, kind(2, ranks), ranks)\n",
    "    else:\n",
    "        return (0, ranks)\n",
    "    \n",
    "def card_ranks(hand):\n",
    "    \"Return a list of the ranks, sorted with higher first.\"\n",
    "    ranks = ['--23456789TJQKA'.index(r) for r, s in hand]\n",
    "    ranks.sort(reverse = True)\n",
    "    return [5, 4, 3, 2, 1] if (ranks == [14, 5, 4, 3, 2]) else ranks\n",
    "\n",
    "def flush(hand):\n",
    "    \"Return True if all the cards have the same suit.\"\n",
    "    suits = [s for r,s in hand]\n",
    "    return len(set(suits)) == 1\n",
    "\n",
    "def straight(ranks):\n",
    "    \"\"\"Return True if the ordered \n",
    "    ranks form a 5-card straight.\"\"\"\n",
    "    return (max(ranks)-min(ranks) == 4) and len(set(ranks)) == 5\n",
    "\n",
    "def kind(n, ranks):\n",
    "    \"\"\"Return the first rank that this hand has \n",
    "    exactly n-of-a-kind of. Return None if there \n",
    "    is no n-of-a-kind in the hand.\"\"\"\n",
    "    for r in ranks:\n",
    "        if ranks.count(r) == n: return r\n",
    "    return None\n",
    "\n",
    "def two_pair(ranks):\n",
    "    \"\"\"If there are two pair here, return the two \n",
    "    ranks of the two pairs, else None.\"\"\"\n",
    "    pair = kind(2, ranks)\n",
    "    lowpair = kind(2, list(reversed(ranks)))\n",
    "    if pair and lowpair != pair:\n",
    "        return (pair, lowpair)\n",
    "    else:\n",
    "        return None \n",
    "\n",
    "#print(test_best_wild_hand())\n",
    "print(\"5C ?B\".split())\n",
    "result = map(replacements, \"5C ?B\".split())\n",
    "print(*result)\n"
   ]
  },
  {
   "cell_type": "markdown",
   "metadata": {},
   "source": [
    "## Programming is always this combination of what you have to do yourself and what do you find that people have already done"
   ]
  }
 ],
 "metadata": {
  "kernelspec": {
   "display_name": "Python 3",
   "language": "python",
   "name": "python3"
  },
  "language_info": {
   "codemirror_mode": {
    "name": "ipython",
    "version": 3
   },
   "file_extension": ".py",
   "mimetype": "text/x-python",
   "name": "python",
   "nbconvert_exporter": "python",
   "pygments_lexer": "ipython3",
   "version": "3.6.4"
  }
 },
 "nbformat": 4,
 "nbformat_minor": 2
}
