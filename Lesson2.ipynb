{
 "cells": [
  {
   "cell_type": "markdown",
   "metadata": {},
   "source": [
    "### cố gắng thiết kế 1 function trong 1 mặt của cái phong bì nó sẽ giúp cho function của bạn đủ đơn giản"
   ]
  },
  {
   "cell_type": "markdown",
   "metadata": {},
   "source": [
    "### zebra puzzle"
   ]
  },
  {
   "cell_type": "code",
   "execution_count": 11,
   "metadata": {},
   "outputs": [
    {
     "name": "stdout",
     "output_type": "stream",
     "text": [
      "1\n"
     ]
    }
   ],
   "source": [
    "import itertools\n",
    "\n",
    "houses = [1, 2, 3, 4, 5]\n",
    "orderings = list(itertools.permutations(houses))\n",
    "\n",
    "def imright(h1, h2):\n",
    "    \"House h1 is immediately right of h2 if h1-h2 == 1.\"\n",
    "    return h1-h2 == 1\n",
    "\n",
    "def nextto(h1, h2):\n",
    "    \"Two houses are next to each other if they differ by 1.\"\n",
    "    return abs(h1-h2)\n",
    "\n",
    "print(nextto(1,2))"
   ]
  },
  {
   "cell_type": "markdown",
   "metadata": {},
   "source": [
    "### generator expressions\n",
    "https://medium.freecodecamp.org/python-list-comprehensions-vs-generator-expressions-cef70ccb49db\n",
    "### generator function is a promise"
   ]
  },
  {
   "cell_type": "code",
   "execution_count": 15,
   "metadata": {},
   "outputs": [
    {
     "ename": "AttributeError",
     "evalue": "'generator' object has no attribute 'next'",
     "output_type": "error",
     "traceback": [
      "\u001b[0;31m---------------------------------------------------------------------------\u001b[0m",
      "\u001b[0;31mAttributeError\u001b[0m                            Traceback (most recent call last)",
      "\u001b[0;32m<ipython-input-15-8e00139e9b3c>\u001b[0m in \u001b[0;36m<module>\u001b[0;34m()\u001b[0m\n\u001b[1;32m      1\u001b[0m \u001b[0ma\u001b[0m \u001b[0;34m=\u001b[0m \u001b[0;34m(\u001b[0m\u001b[0mx\u001b[0m \u001b[0;32mfor\u001b[0m \u001b[0mx\u001b[0m \u001b[0;32min\u001b[0m \u001b[0mrange\u001b[0m\u001b[0;34m(\u001b[0m\u001b[0;36m5\u001b[0m\u001b[0;34m)\u001b[0m\u001b[0;34m)\u001b[0m\u001b[0;34m\u001b[0m\u001b[0m\n\u001b[0;32m----> 2\u001b[0;31m \u001b[0mprint\u001b[0m\u001b[0;34m(\u001b[0m\u001b[0ma\u001b[0m\u001b[0;34m.\u001b[0m\u001b[0mnext\u001b[0m\u001b[0;34m(\u001b[0m\u001b[0;34m)\u001b[0m\u001b[0;34m)\u001b[0m\u001b[0;34m\u001b[0m\u001b[0m\n\u001b[0m",
      "\u001b[0;31mAttributeError\u001b[0m: 'generator' object has no attribute 'next'"
     ]
    }
   ],
   "source": [
    "a = (x for x in range(5))\n",
    "print(a(next())"
   ]
  },
  {
   "cell_type": "code",
   "execution_count": 13,
   "metadata": {},
   "outputs": [
    {
     "name": "stdout",
     "output_type": "stream",
     "text": [
      "[0, 1, 2, 3, 4]\n"
     ]
    }
   ],
   "source": [
    "print([x for x in range(5)])"
   ]
  },
  {
   "cell_type": "code",
   "execution_count": 10,
   "metadata": {},
   "outputs": [
    {
     "name": "stdout",
     "output_type": "stream",
     "text": [
      "(0.00014300000000000423, 0.00016139999999995603, 0.00021599999999999397)\n"
     ]
    }
   ],
   "source": [
    "import itertools\n",
    "import time\n",
    "\n",
    "\n",
    "def imright(h1, h2):\n",
    "    \"House h1 is immediately right of h2 if h1-h2 == 1.\"\n",
    "    return h1-h2 == 1\n",
    "\n",
    "def nextto(h1, h2):\n",
    "    \"Two houses are next to each other if they differ by 1.\"\n",
    "    return (abs(h1-h2) == 1)\n",
    "\n",
    "def zebra_puzzle():\n",
    "    houses = first, _, middle, _, _ = [1, 2, 3, 4, 5]\n",
    "    orderings = list(itertools.permutations(houses))\n",
    "    \n",
    "    return next((WATER, ZEBRA)\n",
    "                for (red, green, ivory, yellow, blue) in orderings\n",
    "                if imright(green, ivory)\n",
    "                for (Englishman, Spaniard, Ukranian, Japanese, Norwegian) in orderings\n",
    "                if Englishman is red\n",
    "                if Norwegian is first\n",
    "                if nextto(Norwegian, blue)\n",
    "                for (coffee, tea, milk, oj, WATER) in orderings\n",
    "                if coffee is green\n",
    "                if Ukranian is tea\n",
    "                if milk is middle\n",
    "                for(OldGold, Kools, Chesterfields, LuckyStrike, Parliments) in orderings\n",
    "                if Kools is yellow\n",
    "                if LuckyStrike is oj\n",
    "                if Japanese is Parliments\n",
    "                for (dog, snails, fox, horse, ZEBRA) in orderings\n",
    "                if Spaniard is dog\n",
    "                if OldGold is snails\n",
    "                if nextto(Chesterfields, fox)\n",
    "                if nextto(Kools, horse)\n",
    "               )\n",
    "\n",
    "def timedcall(fn, *args):\n",
    "    t0 = time.clock()\n",
    "    result = fn(*args)\n",
    "    t1 = time.clock()\n",
    "    return t1 - t0, result\n",
    "\n",
    "def timedcalls(n, fn, *args):\n",
    "    times = [timedcall(fn, *args)[0] for _ in range(n)]\n",
    "    return min(times), average(times), max(times)\n",
    "\n",
    "def average(numbers):\n",
    "    return sum(numbers) / float(len(numbers))\n",
    "\n",
    "print(timedcalls(5, zebra_puzzle))\n",
    "    "
   ]
  },
  {
   "cell_type": "markdown",
   "metadata": {},
   "source": [
    "### * args: packing and unpacking parameters\n",
    "### function is an object that can use as parameter"
   ]
  },
  {
   "cell_type": "markdown",
   "metadata": {},
   "source": [
    "## Aspects for programming\n",
    "### correct\n",
    "### efficient\n",
    "### debug"
   ]
  },
  {
   "cell_type": "markdown",
   "metadata": {},
   "source": [
    "## About yield\n",
    "### https://wiki.python.org/moin/Generators\n"
   ]
  },
  {
   "cell_type": "code",
   "execution_count": 26,
   "metadata": {},
   "outputs": [
    {
     "name": "stdout",
     "output_type": "stream",
     "text": [
      "0\n",
      "1\n",
      "-1\n"
     ]
    }
   ],
   "source": [
    "# ------------\n",
    "# User Instructions\n",
    "#\n",
    "# Define a function, all_ints(), that generates the \n",
    "# integers in the order 0, +1, -1, +2, -2, ...\n",
    "\n",
    "def ints(start, end = None):\n",
    "    i = start\n",
    "    while end is None or i <= end:\n",
    "        yield i\n",
    "        i = i + 1\n",
    "    \n",
    "def all_ints():\n",
    "    \"Generate integers in the order 0, +1, -1, +2, -2, +3, -3, ...\"\n",
    "    # Your code here.\n",
    "    yield 0\n",
    "    for i in ints(1):\n",
    "        yield +i\n",
    "        yield -i\n",
    "        \n",
    "\n",
    "b = all_ints()\n",
    "print(next(b))\n",
    "print(next(b))\n",
    "print(next(b))"
   ]
  },
  {
   "cell_type": "markdown",
   "metadata": {},
   "source": [
    "### Regular Expressions\n",
    "https://www.datacamp.com/community/tutorials/python-regular-expression-tutorial\n",
    "* ordinary characters\n",
    "* "
   ]
  },
  {
   "cell_type": "code",
   "execution_count": null,
   "metadata": {},
   "outputs": [],
   "source": []
  },
  {
   "cell_type": "code",
   "execution_count": 23,
   "metadata": {},
   "outputs": [
    {
     "name": "stdout",
     "output_type": "stream",
     "text": [
      "655 + 655 == 1310\n"
     ]
    }
   ],
   "source": [
    "import itertools, re\n",
    "# try:\n",
    "#     maketrans = ''.maketrans\n",
    "#     print('python 3')\n",
    "# except AttributeError:\n",
    "#     # fallback for Python 2\n",
    "#     print('fallback')\n",
    "#     from string import maketrans\n",
    "\n",
    "# -------------\n",
    "# User Instructions\n",
    "#\n",
    "# Write a function, solve(formula) that solves cryptarithmetic puzzles.\n",
    "# The input should be a formula like 'ODD + ODD == EVEN', and the \n",
    "# output should be a string with the digits filled in, or None if the\n",
    "# problem is not solvable.\n",
    "#\n",
    "# Note that you will not be able to run your code yet since the \n",
    "# program is incomplete. Please SUBMIT to see if you are correct.\n",
    "\n",
    "import string, re \n",
    "\n",
    "def solve(formula):\n",
    "    \"\"\"Given a formula like 'ODD + ODD == EVEN', fill in digits to solve it.\n",
    "    Input formula is a string; output is a digit-filled-in string or None.\"\"\"\n",
    "    # Your code here\n",
    "    for f in fill_in(formula):\n",
    "        if valid(f):\n",
    "            return f\n",
    "    \n",
    "    \n",
    "def fill_in(formula):\n",
    "    \"Generate all possible fillings-in of letters in formula with digits.\"\n",
    "    letters = ''.join(set(re.findall('[A-Z]', formula))) #should be a string\n",
    "    for digits in itertools.permutations('1234567890', len(letters)):\n",
    "        table = ''.maketrans(letters, ''.join(digits))\n",
    "        yield formula.translate(table)\n",
    "    \n",
    "def valid(f):\n",
    "    \"\"\"Formula f is valid if and only if it has no \n",
    "    numbers with leading zero, and evals true.\"\"\"\n",
    "    try: \n",
    "        return not re.search(r'\\b0[0-9]', f) and eval(f) is True\n",
    "    except ArithmeticError:\n",
    "        return False\n",
    "    \n",
    "print(solve('ODD + ODD == EVEN'))"
   ]
  },
  {
   "cell_type": "code",
   "execution_count": 11,
   "metadata": {},
   "outputs": [
    {
     "name": "stdout",
     "output_type": "stream",
     "text": [
      "OAVAEANAD\n",
      "ODDODDEVEN\n",
      "{'O', 'V', 'E', 'N', 'D'}\n",
      "ODD + ODD == EVEN\n"
     ]
    }
   ],
   "source": [
    "import re\n",
    "\n",
    "str = 'ODD + ODD == EVEN'\n",
    "print('A'.join(set(re.findall('[A-Z]', str))))\n",
    "print(str.replace('+','').replace('==','').replace(' ',''))\n",
    "str1 = str.replace('+','').replace('==','').replace(' ','')\n",
    "length = len(set(list(str1)))\n",
    "print(set(list(str1)))\n",
    "print(str)"
   ]
  },
  {
   "cell_type": "markdown",
   "metadata": {},
   "source": [
    "### Study points\n",
    "* join function\n",
    "* re.findall function\n",
    "* maketrans and translate function"
   ]
  },
  {
   "cell_type": "code",
   "execution_count": null,
   "metadata": {},
   "outputs": [],
   "source": []
  }
 ],
 "metadata": {
  "kernelspec": {
   "display_name": "Python 3",
   "language": "python",
   "name": "python3"
  },
  "language_info": {
   "codemirror_mode": {
    "name": "ipython",
    "version": 3
   },
   "file_extension": ".py",
   "mimetype": "text/x-python",
   "name": "python",
   "nbconvert_exporter": "python",
   "pygments_lexer": "ipython3",
   "version": "3.6.4"
  }
 },
 "nbformat": 4,
 "nbformat_minor": 2
}
