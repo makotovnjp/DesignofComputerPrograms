{
 "cells": [
  {
   "cell_type": "markdown",
   "metadata": {},
   "source": [
    "# Lesson1"
   ]
  },
  {
   "cell_type": "markdown",
   "metadata": {},
   "source": [
    "## Author: Peter Norvig (born December 14, 1956) is an American computer scientist. He is a director of research at Google Inc., and used to be its director of search quality"
   ]
  },
  {
   "cell_type": "markdown",
   "metadata": {},
   "source": [
    "### Problem1: write function to calculate sum of square[array]"
   ]
  },
  {
   "cell_type": "markdown",
   "metadata": {},
   "source": [
    "### My Code"
   ]
  },
  {
   "cell_type": "code",
   "execution_count": 3,
   "metadata": {},
   "outputs": [
    {
     "data": {
      "text/plain": [
       "5"
      ]
     },
     "execution_count": 3,
     "metadata": {},
     "output_type": "execute_result"
    }
   ],
   "source": [
    "def ss(nums):\n",
    "    total = 0\n",
    "    for i in range(len(nums)):\n",
    "        total += nums[i] **2\n",
    "    return total\n",
    "\n",
    "ss([1,2])"
   ]
  },
  {
   "cell_type": "markdown",
   "metadata": {},
   "source": [
    "### Teacher's code"
   ]
  },
  {
   "cell_type": "code",
   "execution_count": 4,
   "metadata": {},
   "outputs": [
    {
     "data": {
      "text/plain": [
       "5"
      ]
     },
     "execution_count": 4,
     "metadata": {},
     "output_type": "execute_result"
    }
   ],
   "source": [
    "def ss(nums):\n",
    "    return sum(x**2 for x in nums)\n",
    "\n",
    "ss([1,2])"
   ]
  },
  {
   "cell_type": "markdown",
   "metadata": {},
   "source": [
    "### outline for problem 1: write code for poker game\n",
    "### poker rule: https://en.wikipedia.org/wiki/List_of_poker_hands"
   ]
  },
  {
   "cell_type": "markdown",
   "metadata": {},
   "source": [
    "### my code"
   ]
  },
  {
   "cell_type": "code",
   "execution_count": 9,
   "metadata": {},
   "outputs": [
    {
     "data": {
      "text/plain": [
       "10"
      ]
     },
     "execution_count": 9,
     "metadata": {},
     "output_type": "execute_result"
    }
   ],
   "source": [
    "def hand_rank(hand):\n",
    "    return hand * 2\n",
    "\n",
    "def poker(hands):\n",
    "    \"Return the best hand\"\n",
    "    return max(hand_rank(hand) for hand in hands ) # wrong because we want to return hand\n",
    "poker([1,2,5])"
   ]
  },
  {
   "cell_type": "markdown",
   "metadata": {},
   "source": [
    "### teacher's code: sử dụng key trong function max"
   ]
  },
  {
   "cell_type": "code",
   "execution_count": 16,
   "metadata": {},
   "outputs": [
    {
     "data": {
      "text/plain": [
       "3"
      ]
     },
     "execution_count": 16,
     "metadata": {},
     "output_type": "execute_result"
    }
   ],
   "source": [
    "def poker(hands):\n",
    "    \"Return the best hand\"\n",
    "    return max(hands, key = hand_rank )\n",
    "\n",
    "def hand_rank(hand):\n",
    "    \"Return a value indicating the ranking of a hand\"\n",
    "    return hand * 2\n",
    "\n",
    "def test():\n",
    "    \"Test cases for the functions in poker program\"\n",
    "    sf = \"6C 7C 8C 9C TC\".split() # traight flush\n",
    "    fk = \"9D 9H 9S 9C 7D\".split() # four of kind\n",
    "    fh = \"TD TC TH 7C 7D\".split() # full house\n",
    "    assert poker([sf, fk, fh]) == sf\n",
    "    assert poker([fk, fh]) == fk\n",
    "    assert poker([fh, fh]) == fh\n",
    "    assert poker([sf]) == sf\n",
    "    assert poker([sf] + 99*[fh]) == sf # the way to concatenate\n",
    "    return \"test pass\"\n",
    "\n",
    "#print(test())\n",
    "poker([1,2,3])"
   ]
  },
  {
   "cell_type": "code",
   "execution_count": null,
   "metadata": {},
   "outputs": [],
   "source": []
  }
 ],
 "metadata": {
  "kernelspec": {
   "display_name": "Python 3",
   "language": "python",
   "name": "python3"
  },
  "language_info": {
   "codemirror_mode": {
    "name": "ipython",
    "version": 3
   },
   "file_extension": ".py",
   "mimetype": "text/x-python",
   "name": "python",
   "nbconvert_exporter": "python",
   "pygments_lexer": "ipython3",
   "version": "3.6.4"
  }
 },
 "nbformat": 4,
 "nbformat_minor": 2
}
