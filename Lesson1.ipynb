{
 "cells": [
  {
   "cell_type": "markdown",
   "metadata": {},
   "source": [
    "# Lesson1"
   ]
  },
  {
   "cell_type": "markdown",
   "metadata": {},
   "source": [
    "## Author: Peter Norvig (born December 14, 1956) is an American computer scientist. He is a director of research at Google Inc., and used to be its director of search quality"
   ]
  },
  {
   "cell_type": "markdown",
   "metadata": {},
   "source": [
    "### Problem1: write function to calculate sum of square[array]"
   ]
  },
  {
   "cell_type": "markdown",
   "metadata": {},
   "source": [
    "### My Code"
   ]
  },
  {
   "cell_type": "code",
   "execution_count": 3,
   "metadata": {},
   "outputs": [
    {
     "data": {
      "text/plain": [
       "5"
      ]
     },
     "execution_count": 3,
     "metadata": {},
     "output_type": "execute_result"
    }
   ],
   "source": [
    "def ss(nums):\n",
    "    total = 0\n",
    "    for i in range(len(nums)):\n",
    "        total += nums[i] **2\n",
    "    return total\n",
    "\n",
    "ss([1,2])"
   ]
  },
  {
   "cell_type": "markdown",
   "metadata": {},
   "source": [
    "### Teacher's code"
   ]
  },
  {
   "cell_type": "code",
   "execution_count": 4,
   "metadata": {},
   "outputs": [
    {
     "data": {
      "text/plain": [
       "5"
      ]
     },
     "execution_count": 4,
     "metadata": {},
     "output_type": "execute_result"
    }
   ],
   "source": [
    "def ss(nums):\n",
    "    return sum(x**2 for x in nums)\n",
    "\n",
    "ss([1,2])"
   ]
  },
  {
   "cell_type": "markdown",
   "metadata": {},
   "source": [
    "### outline for problem 1: write code for poker game\n",
    "### poker rule: https://en.wikipedia.org/wiki/List_of_poker_hands"
   ]
  },
  {
   "cell_type": "markdown",
   "metadata": {},
   "source": [
    "### my code"
   ]
  },
  {
   "cell_type": "code",
   "execution_count": 9,
   "metadata": {},
   "outputs": [
    {
     "data": {
      "text/plain": [
       "10"
      ]
     },
     "execution_count": 9,
     "metadata": {},
     "output_type": "execute_result"
    }
   ],
   "source": [
    "def hand_rank(hand):\n",
    "    return hand * 2\n",
    "\n",
    "def poker(hands):\n",
    "    \"Return the best hand\"\n",
    "    return max(hand_rank(hand) for hand in hands ) # wrong because we want to return hand\n",
    "poker([1,2,5])"
   ]
  },
  {
   "cell_type": "markdown",
   "metadata": {},
   "source": [
    "### teacher's code: sử dụng key trong function max"
   ]
  },
  {
   "cell_type": "code",
   "execution_count": 16,
   "metadata": {},
   "outputs": [
    {
     "data": {
      "text/plain": [
       "3"
      ]
     },
     "execution_count": 16,
     "metadata": {},
     "output_type": "execute_result"
    }
   ],
   "source": [
    "def poker(hands):\n",
    "    \"Return the best hand\"\n",
    "    return max(hands, key = hand_rank )\n",
    "\n",
    "def card_rank(hand):\n",
    "    hand.sort()\n",
    "    hand.reverse()\n",
    "    \n",
    "    return hand\n",
    "\n",
    "def straight(hand):\n",
    "    hand.sort()\n",
    "    \n",
    "        \n",
    "        \n",
    "    \n",
    "\n",
    "def hand_rank(hand):\n",
    "    \"Return a value indicating the ranking of a hand\"\n",
    "    return hand * 2\n",
    "\n",
    "def test():\n",
    "    \"Test cases for the functions in poker program\"\n",
    "    sf = \"6C 7C 8C 9C TC\".split() # traight flush\n",
    "    fk = \"9D 9H 9S 9C 7D\".split() # four of kind\n",
    "    fh = \"TD TC TH 7C 7D\".split() # full house\n",
    "    assert poker([sf, fk, fh]) == sf\n",
    "    assert poker([fk, fh]) == fk\n",
    "    assert poker([fh, fh]) == fh\n",
    "    assert poker([sf]) == sf\n",
    "    assert poker([sf] + 99*[fh]) == sf # the way to concatenate\n",
    "    # test for hand_rank\n",
    "    assert hand_rank(sf) == (8,10)\n",
    "    assert hand_rank(fk) == (7, 9,7)\n",
    "    assert hand_rank(fh) == (6,10,7)\n",
    "    return \"test pass\"\n",
    "\n",
    "#print(test())\n",
    "poker([1,2,3])"
   ]
  },
  {
   "cell_type": "markdown",
   "metadata": {},
   "source": [
    "### Có thể so sánh giữa 2 tuple hoặc 2 string đơn giản như sau"
   ]
  },
  {
   "cell_type": "code",
   "execution_count": 5,
   "metadata": {},
   "outputs": [
    {
     "name": "stdout",
     "output_type": "stream",
     "text": [
      "(7, 3, 5)\n",
      "False\n"
     ]
    }
   ],
   "source": [
    "print(max([(7,3,5),(6,9,9)]))\n",
    "print(('hello' > 'help'))"
   ]
  },
  {
   "cell_type": "markdown",
   "metadata": {},
   "source": [
    "### Memo: Python có thể return các value có type khác nhau"
   ]
  },
  {
   "cell_type": "markdown",
   "metadata": {},
   "source": [
    "### my code card rank function card_ranks([\"6C 7C 8C 9C TC\".split) == [10,9,8,7,6]"
   ]
  },
  {
   "cell_type": "code",
   "execution_count": 19,
   "metadata": {},
   "outputs": [
    {
     "name": "stdout",
     "output_type": "stream",
     "text": [
      "['10', '9', '8', '7', '6']\n"
     ]
    }
   ],
   "source": [
    "def card_ranks(cards):\n",
    "    ranks = [r for r,s in cards]\n",
    "    ranks.sort(reverse =True)\n",
    "    convert_obj = {\n",
    "        'T':'10',\n",
    "        'J':'11',\n",
    "        'Q':'12',\n",
    "        'K':'13',\n",
    "        'A':'14'\n",
    "    }\n",
    "    for i in range(len(ranks)):\n",
    "        if ranks[i] in convert_obj.keys():\n",
    "            ranks[i] = convert_obj[ranks[i]]\n",
    "    \n",
    "    return ranks\n",
    "\n",
    "sf = \"7C 6C 8C 9C TC\".split()\n",
    "print(card_ranks(sf))"
   ]
  },
  {
   "cell_type": "markdown",
   "metadata": {},
   "source": [
    "### Teacher's code for card_ranks function"
   ]
  },
  {
   "cell_type": "code",
   "execution_count": 22,
   "metadata": {},
   "outputs": [
    {
     "name": "stdout",
     "output_type": "stream",
     "text": [
      "[10, 9, 8, 7, 6]\n"
     ]
    }
   ],
   "source": [
    "def card_ranks(hand):\n",
    "    ranks = ['--23456789TJQKA'.index(r) for r,s in hand]\n",
    "    ranks.sort(reverse =True)\n",
    "    \n",
    "    return ranks\n",
    "\n",
    "sf = \"7C 6C 8C 9C TC\".split()\n",
    "print(card_ranks(sf))"
   ]
  },
  {
   "cell_type": "markdown",
   "metadata": {},
   "source": [
    "### study point: để transform array có thể dùng [transform_value for value in array]"
   ]
  },
  {
   "cell_type": "markdown",
   "metadata": {},
   "source": [
    "### write straight function and flush code: my code"
   ]
  },
  {
   "cell_type": "code",
   "execution_count": 32,
   "metadata": {
    "scrolled": true
   },
   "outputs": [
    {
     "name": "stdout",
     "output_type": "stream",
     "text": [
      "False\n",
      "True\n",
      "False\n"
     ]
    }
   ],
   "source": [
    "def straight(ranks):\n",
    "    \"Return true if the ordered ranks form a 5-card straight\"\n",
    "    if max(ranks) - min(ranks) == 4:\n",
    "        return True\n",
    "    else:\n",
    "        return False\n",
    "    \n",
    "def flush(hand):\n",
    "    \"Return True if all the cards have the same suit\"\n",
    "    suits = [s for r, s in hand]\n",
    "    ref = suits[0]\n",
    "    for i in range(len(suits)):\n",
    "        if suits[i] != ref:\n",
    "            return False\n",
    "    \n",
    "    return True\n",
    "\n",
    "print(flush(\"7C 6C 8C 9C TK\".split()))\n",
    "\n",
    "print(straight([10,9,8,7,6]))\n",
    "print(straight([10,9,8,7,5]))"
   ]
  },
  {
   "cell_type": "markdown",
   "metadata": {},
   "source": [
    "### straight, flush function: teacher's code"
   ]
  },
  {
   "cell_type": "code",
   "execution_count": 31,
   "metadata": {},
   "outputs": [
    {
     "name": "stdout",
     "output_type": "stream",
     "text": [
      "False\n"
     ]
    }
   ],
   "source": [
    "def flush(hand):\n",
    "    \"Return True if all the cards have the same suit\"\n",
    "    suits = [s for r, s in hand]\n",
    "    ref = suits[0]\n",
    "    for i in range(len(suits)):\n",
    "        if suits[i] != ref:\n",
    "            return False\n",
    "    \n",
    "    return True\n",
    "\n",
    "print(flush(\"7C 6C 8C 9C TK\".split()))"
   ]
  },
  {
   "cell_type": "code",
   "execution_count": null,
   "metadata": {},
   "outputs": [],
   "source": []
  }
 ],
 "metadata": {
  "kernelspec": {
   "display_name": "Python 3",
   "language": "python",
   "name": "python3"
  },
  "language_info": {
   "codemirror_mode": {
    "name": "ipython",
    "version": 3
   },
   "file_extension": ".py",
   "mimetype": "text/x-python",
   "name": "python",
   "nbconvert_exporter": "python",
   "pygments_lexer": "ipython3",
   "version": "3.6.4"
  }
 },
 "nbformat": 4,
 "nbformat_minor": 2
}
